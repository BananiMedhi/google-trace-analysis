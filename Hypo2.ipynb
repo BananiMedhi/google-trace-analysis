{
 "cells": [
  {
   "cell_type": "code",
   "execution_count": 145,
   "metadata": {},
   "outputs": [
    {
     "name": "stdout",
     "output_type": "stream",
     "text": [
      "Mankatha da\n"
     ]
    }
   ],
   "source": [
    "print \"Mankatha da\""
   ]
  },
  {
   "cell_type": "code",
   "execution_count": 123,
   "metadata": {
    "collapsed": true
   },
   "outputs": [],
   "source": [
    "import pandas as pd\n",
    "import numpy as np\n",
    "import os\n",
    "import pickle as pkl\n",
    "import h5py\n",
    "import matplotlib.pyplot as plt"
   ]
  },
  {
   "cell_type": "code",
   "execution_count": 109,
   "metadata": {
    "collapsed": true
   },
   "outputs": [],
   "source": [
    "def myFunction(df):\n",
    "    job_ids = df['job_id'].unique()\n",
    "    df = df.drop(df.columns[[1,4,6,7,8,12]], axis=1)\n",
    "    df=df.sort_values(['timestamp'])\n",
    "    df = df[df.timestamp != 0]\n",
    "    output_df = pd.DataFrame(columns=[\"job_id\",\"task_index\",\"waiting_time\",\"resource_usage\"])\n",
    "    i = 1\n",
    "    for job_id in job_ids:\n",
    "        i=i+1\n",
    "        small_df = df[df['job_id'] == job_id]\n",
    "        if not small_df.empty:\n",
    "    #         print \"smalldf\",small_df\n",
    "            task_indexes = small_df['task_index'].unique()\n",
    "    #         print \"task_indexes\",task_indexes\n",
    "            for task_index in task_indexes:\n",
    "                smallest_df1 = small_df[small_df['task_index'] == task_index]\n",
    "                smallest_df1 = smallest_df1[smallest_df1['event_type'] == 0]\n",
    "    #             print \"smdf1\",smallest_df1.iloc[0]\n",
    "                smallest_df2 = small_df[small_df['task_index'] == task_index] \n",
    "                smallest_df2 = smallest_df2[smallest_df2['event_type'] == 1]\n",
    "    #             print \"smdf2\",smallest_df2.iloc[0]\n",
    "                if not ( smallest_df1.empty or smallest_df2.empty ):\n",
    "                    row0 = smallest_df1.iloc[0]\n",
    "                    row1 = smallest_df2.iloc[0]\n",
    "    #                 print row0\n",
    "    #                 print row1\n",
    "                    resource_usage = (row0.cpu_req + row0.ram_req + row0.space_req)/3\n",
    "                    job_idd = row0.job_id\n",
    "                    task_indexx = row0.task_index\n",
    "                    waiting_time = row1.timestamp - row0.timestamp\n",
    "                    if not waiting_time < 0:\n",
    "                        output_data = pd.DataFrame(columns=[\"job_id\",\"task_index\",\"waiting_time\",\"resource_usage\"],data=[[job_idd,task_indexx,waiting_time,resource_usage]])\n",
    "        #                 print output_data\n",
    "                        output_df = output_df.append(output_data)\n",
    "                    break\n",
    "\n",
    "    #         print small_df\n",
    "    #     if i == 1000:\n",
    "    #         break\n",
    "    return output_df"
   ]
  },
  {
   "cell_type": "code",
   "execution_count": 117,
   "metadata": {
    "collapsed": true
   },
   "outputs": [],
   "source": [
    "data_dir = \"./data/task_events/\"\n",
    "output_data_dir = './data/task_events_input/part-00000-of-00500.csv.gz'\n",
    "\n",
    "task_events_header = ['timestamp','missing_info', 'job_id','task_index','machine_id','event_type',\n",
    "                      'user_name','sched_class','priority','cpu_req','ram_req','space_req','diff_machine']"
   ]
  },
  {
   "cell_type": "code",
   "execution_count": 118,
   "metadata": {},
   "outputs": [],
   "source": [
    "output_dataframe = pd.DataFrame()\n",
    "for i in range(500):\n",
    "    file_str = str(i).zfill(5) \n",
    "#     print file_str\n",
    "    df = pd.read_csv(data_dir+\"part-\"+file_str+\"-of-00500.csv.gz\",header=None)\n",
    "    df.columns = task_events_header\n",
    "    out_df = myFunction(df)\n",
    "    output_dataframe = output_dataframe.append(out_df)\n",
    "    output_data_dir = \"./data/task_events_input/part-\"+file_str+\"-of-00500.csv\"\n",
    "    out_df.to_csv(output_data_dir, sep='\\t')\n",
    "\n",
    "grouped_data = output_dataframe.groupby(['job_id']).mean()\n",
    "grouped_data = grouped_data[grouped_data['waiting_time']>1000000000]"
   ]
  },
  {
   "cell_type": "code",
   "execution_count": null,
   "metadata": {},
   "outputs": [],
   "source": [
    "print output_dataframe"
   ]
  },
  {
   "cell_type": "code",
   "execution_count": 139,
   "metadata": {},
   "outputs": [],
   "source": [
    "grouped_data = output_dataframe.groupby(['job_id']).mean()"
   ]
  },
  {
   "cell_type": "code",
   "execution_count": 121,
   "metadata": {},
   "outputs": [
    {
     "data": {
      "text/plain": [
       "0.12628895482543345"
      ]
     },
     "execution_count": 121,
     "metadata": {},
     "output_type": "execute_result"
    }
   ],
   "source": [
    "output_dataframe['waiting_time'].corr(output_dataframe['resource_usage'])"
   ]
  },
  {
   "cell_type": "code",
   "execution_count": null,
   "metadata": {},
   "outputs": [],
   "source": [
    "# plt.plot([x for x in range(len(mean_id_list))],mean_id_list)\n",
    "plt.scatter(output_dataframe['waiting_time'].tolist(),output_dataframe['resource_usage'].tolist())\n",
    "plt.show()"
   ]
  },
  {
   "cell_type": "code",
   "execution_count": null,
   "metadata": {},
   "outputs": [],
   "source": [
    "grouped_data = grouped_data[grouped_data['resource_usage'] != 0]\n",
    "grouped_data.dropna(axis=0,inplace=True)"
   ]
  },
  {
   "cell_type": "code",
   "execution_count": null,
   "metadata": {
    "collapsed": true
   },
   "outputs": [],
   "source": [
    "q1 = grouped_data['resource_usage'].quantile(0.25)\n",
    "q3 = grouped_data['resource_usage'].quantile(0.75)\n",
    "iqr = q3-q1\n",
    "grouped_data = grouped_data[(grouped_data['resource_usage'] > (q1-1.5*iqr) ) & (grouped_data['resource_usage'] < (q3+1.5*iqr))]\n",
    "\n",
    "\n",
    "\n"
   ]
  },
  {
   "cell_type": "code",
   "execution_count": 143,
   "metadata": {
    "collapsed": true
   },
   "outputs": [],
   "source": [
    "q1 = grouped_data['waiting_time'].quantile(0.25)\n",
    "q3 = grouped_data['waiting_time'].quantile(0.75)\n",
    "iqr = q3-q1\n",
    "grouped_data = grouped_data[(grouped_data['waiting_time'] > (q1-1.5*iqr) ) & (grouped_data['waiting_time'] < (q3+1.5*iqr))]"
   ]
  },
  {
   "cell_type": "code",
   "execution_count": 144,
   "metadata": {},
   "outputs": [
    {
     "data": {
      "image/png": "[encoded data removed]",
      "text/plain": [
       "<matplotlib.figure.Figure at 0x114a9ea10>"
      ]
     },
     "metadata": {},
     "output_type": "display_data"
    }
   ],
   "source": [
    "# library & dataset\n",
    "import seaborn as sns\n",
    "# df = sns.load_dataset('iris')\n",
    " \n",
    "# use the function regplot to make a scatterplot\n",
    "# sns.regplot(x=df[\"sepal_length\"], y=df[\"sepal_width\"])\n",
    "#sns.plt.show()\n",
    " \n",
    "# Without regression fit:\n",
    "\n",
    "# sns.regplot(x=grouped_data['waiting_time'], y=grouped_data['resource_usage'], fit_reg=False)\n",
    "# sns.plt.show()\n",
    "\n",
    "\n",
    "sns.lmplot('waiting_time', 'resource_usage', data=grouped_data, fit_reg=True)\n",
    "plt.show()"
   ]
  },
  {
   "cell_type": "code",
   "execution_count": null,
   "metadata": {
    "collapsed": true
   },
   "outputs": [],
   "source": []
  }
 ],
 "metadata": {
  "kernelspec": {
   "display_name": "Python 2",
   "language": "python",
   "name": "python2"
  },
  "language_info": {
   "codemirror_mode": {
    "name": "ipython",
    "version": 2
   },
   "file_extension": ".py",
   "mimetype": "text/x-python",
   "name": "python",
   "nbconvert_exporter": "python",
   "pygments_lexer": "ipython2",
   "version": "2.7.14"
  }
 },
 "nbformat": 4,
 "nbformat_minor": 2
}
