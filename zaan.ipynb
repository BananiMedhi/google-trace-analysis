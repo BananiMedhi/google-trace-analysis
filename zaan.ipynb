{
 "cells": [
  {
   "cell_type": "code",
   "execution_count": 2,
   "metadata": {},
   "outputs": [
    {
     "name": "stderr",
     "output_type": "stream",
     "text": [
      "C:\\Users\\faizaan09\\Anaconda3\\lib\\site-packages\\h5py\\__init__.py:36: FutureWarning: Conversion of the second argument of issubdtype from `float` to `np.floating` is deprecated. In future, it will be treated as `np.float64 == np.dtype(float).type`.\n",
      "  from ._conv import register_converters as _register_converters\n"
     ]
    }
   ],
   "source": [
    "import pandas as pd\n",
    "import numpy as np\n",
    "import os\n",
    "import pickle as pkl\n",
    "import h5py\n",
    "import sys\n",
    "from tqdm import tqdm\n",
    "import gc\n",
    "import matplotlib.pyplot as plt\n",
    "from sklearn.preprocessing import StandardScaler\n",
    "from scipy.stats import kstest,ks_2samp\n",
    "import scipy"
   ]
  },
  {
   "cell_type": "code",
   "execution_count": 1,
   "metadata": {},
   "outputs": [],
   "source": [
    "data_dir = \"./data/clusterdata-2011-2/\"\n",
    "\n",
    "task_events_header = ['timestamp','missing_info', 'job_id','task_index','machine_id','event_type',\n",
    "                      'user_name','sched_class','priority','cpu_req','ram_req','space_req','diff_machine']\n",
    "\n",
    "machine_events_header = ['timestamp','machine_id','event_type','platform_id','cpu_cap','mem_cap']\n"
   ]
  },
  {
   "cell_type": "code",
   "execution_count": 105,
   "metadata": {},
   "outputs": [],
   "source": [
    "df = pd.read_csv(data_dir+\"task_events/part-00000-of-00500.csv.gz\",header=None)\n",
    "df.columns = task_events_header\n",
    "df = df[['job_id','cpu_req','ram_req','space_req']]"
   ]
  },
  {
   "cell_type": "code",
   "execution_count": 106,
   "metadata": {},
   "outputs": [
    {
     "name": "stderr",
     "output_type": "stream",
     "text": [
      "100%|████████████████████████████████████████████████████████████████████████████████████| 9/9 [00:04<00:00,  1.53it/s]\n"
     ]
    }
   ],
   "source": [
    "for i in tqdm(range(1,10)):\n",
    "    temp = pd.read_csv(data_dir + \"task_events/part-%05d-of-00500.csv.gz\" % i,header=None)\n",
    "    temp.columns = task_events_header\n",
    "    temp = temp[['job_id','cpu_req','ram_req','space_req']]\n",
    "    df = pd.concat([df,temp])"
   ]
  },
  {
   "cell_type": "code",
   "execution_count": 107,
   "metadata": {
    "scrolled": true
   },
   "outputs": [
    {
     "data": {
      "text/plain": [
       "(0.06808212399482727, (1827565, 4))"
      ]
     },
     "execution_count": 107,
     "metadata": {},
     "output_type": "execute_result"
    }
   ],
   "source": [
    "df.dropna(axis=0,how='any',inplace=True)\n",
    "sys.getsizeof(df) / 1024 / 1024 / 1024, df.shape"
   ]
  },
  {
   "cell_type": "code",
   "execution_count": 108,
   "metadata": {},
   "outputs": [
    {
     "data": {
      "text/html": [
       "<div>\n",
       "<style scoped>\n",
       "    .dataframe tbody tr th:only-of-type {\n",
       "        vertical-align: middle;\n",
       "    }\n",
       "\n",
       "    .dataframe tbody tr th {\n",
       "        vertical-align: top;\n",
       "    }\n",
       "\n",
       "    .dataframe thead th {\n",
       "        text-align: right;\n",
       "    }\n",
       "</style>\n",
       "<table border=\"1\" class=\"dataframe\">\n",
       "  <thead>\n",
       "    <tr style=\"text-align: right;\">\n",
       "      <th></th>\n",
       "      <th>job_id</th>\n",
       "      <th>cpu_req</th>\n",
       "      <th>ram_req</th>\n",
       "      <th>space_req</th>\n",
       "    </tr>\n",
       "  </thead>\n",
       "  <tbody>\n",
       "    <tr>\n",
       "      <th>2</th>\n",
       "      <td>3418314</td>\n",
       "      <td>0.12500</td>\n",
       "      <td>0.07446</td>\n",
       "      <td>0.000424</td>\n",
       "    </tr>\n",
       "    <tr>\n",
       "      <th>3</th>\n",
       "      <td>3418314</td>\n",
       "      <td>0.12500</td>\n",
       "      <td>0.07446</td>\n",
       "      <td>0.000424</td>\n",
       "    </tr>\n",
       "    <tr>\n",
       "      <th>45</th>\n",
       "      <td>3418368</td>\n",
       "      <td>0.03125</td>\n",
       "      <td>0.08691</td>\n",
       "      <td>0.000455</td>\n",
       "    </tr>\n",
       "    <tr>\n",
       "      <th>46</th>\n",
       "      <td>3418368</td>\n",
       "      <td>0.03125</td>\n",
       "      <td>0.08691</td>\n",
       "      <td>0.000455</td>\n",
       "    </tr>\n",
       "    <tr>\n",
       "      <th>47</th>\n",
       "      <td>3418368</td>\n",
       "      <td>0.03125</td>\n",
       "      <td>0.08691</td>\n",
       "      <td>0.000455</td>\n",
       "    </tr>\n",
       "  </tbody>\n",
       "</table>\n",
       "</div>"
      ],
      "text/plain": [
       "     job_id  cpu_req  ram_req  space_req\n",
       "2   3418314  0.12500  0.07446   0.000424\n",
       "3   3418314  0.12500  0.07446   0.000424\n",
       "45  3418368  0.03125  0.08691   0.000455\n",
       "46  3418368  0.03125  0.08691   0.000455\n",
       "47  3418368  0.03125  0.08691   0.000455"
      ]
     },
     "execution_count": 108,
     "metadata": {},
     "output_type": "execute_result"
    }
   ],
   "source": [
    "df.head()"
   ]
  },
  {
   "cell_type": "code",
   "execution_count": 100,
   "metadata": {
    "scrolled": true
   },
   "outputs": [],
   "source": [
    "# hd = pd.HDFStore('./data/all_task_events.h5')\n",
    "# hd.put('all_task_events',df)\n",
    "# hd.close()"
   ]
  },
  {
   "cell_type": "code",
   "execution_count": 109,
   "metadata": {},
   "outputs": [],
   "source": [
    "mean = {}\n",
    "mean['cpu'] = df['cpu_req'].mean()\n",
    "mean['ram'] = df['ram_req'].mean()\n",
    "mean['space'] = df['space_req'].mean()\n",
    "std = {}\n",
    "std['cpu'] = df['cpu_req'].std()\n",
    "std['ram'] = df['ram_req'].std()\n",
    "std['space'] = df['space_req'].std()\n",
    "\n",
    "with open('./data/task_event_stats.pkl','wb') as f:\n",
    "    pkl.dump((mean,std),f)\n",
    "\n",
    "# df['cpu_req'] = (df['cpu_req']-mean['cpu'])/std['cpu']\n",
    "# df['ram_req'] = (df['ram_req']-mean['ram'])/std['ram']\n",
    "# df['space_req'] = (df['space_req']-mean['space'])/std['space']"
   ]
  },
  {
   "cell_type": "code",
   "execution_count": 110,
   "metadata": {},
   "outputs": [],
   "source": [
    "scaler = StandardScaler()\n",
    "\n",
    "df['cpu_req'] = pd.Series(scaler.fit_transform(df['cpu_req'].values.reshape(-1, 1)).squeeze())\n",
    "df['ram_req'] = pd.Series(scaler.fit_transform(df['ram_req'].values.reshape(-1, 1)).squeeze())\n",
    "df['space_req'] = pd.Series(scaler.fit_transform(df['space_req'].values.reshape(-1, 1)).squeeze())"
   ]
  },
  {
   "cell_type": "code",
   "execution_count": 111,
   "metadata": {},
   "outputs": [
    {
     "data": {
      "text/html": [
       "<div>\n",
       "<style scoped>\n",
       "    .dataframe tbody tr th:only-of-type {\n",
       "        vertical-align: middle;\n",
       "    }\n",
       "\n",
       "    .dataframe tbody tr th {\n",
       "        vertical-align: top;\n",
       "    }\n",
       "\n",
       "    .dataframe thead th {\n",
       "        text-align: right;\n",
       "    }\n",
       "</style>\n",
       "<table border=\"1\" class=\"dataframe\">\n",
       "  <thead>\n",
       "    <tr style=\"text-align: right;\">\n",
       "      <th></th>\n",
       "      <th>job_id</th>\n",
       "      <th>cpu_req</th>\n",
       "      <th>ram_req</th>\n",
       "      <th>space_req</th>\n",
       "    </tr>\n",
       "  </thead>\n",
       "  <tbody>\n",
       "    <tr>\n",
       "      <th>2</th>\n",
       "      <td>3418314</td>\n",
       "      <td>-0.150537</td>\n",
       "      <td>1.989888</td>\n",
       "      <td>0.198723</td>\n",
       "    </tr>\n",
       "    <tr>\n",
       "      <th>3</th>\n",
       "      <td>3418314</td>\n",
       "      <td>-0.150537</td>\n",
       "      <td>1.989888</td>\n",
       "      <td>0.198723</td>\n",
       "    </tr>\n",
       "    <tr>\n",
       "      <th>45</th>\n",
       "      <td>3418368</td>\n",
       "      <td>0.730898</td>\n",
       "      <td>2.359508</td>\n",
       "      <td>0.262981</td>\n",
       "    </tr>\n",
       "    <tr>\n",
       "      <th>46</th>\n",
       "      <td>3418368</td>\n",
       "      <td>0.730898</td>\n",
       "      <td>2.359508</td>\n",
       "      <td>0.262981</td>\n",
       "    </tr>\n",
       "    <tr>\n",
       "      <th>47</th>\n",
       "      <td>3418368</td>\n",
       "      <td>0.730898</td>\n",
       "      <td>2.359508</td>\n",
       "      <td>0.262981</td>\n",
       "    </tr>\n",
       "  </tbody>\n",
       "</table>\n",
       "</div>"
      ],
      "text/plain": [
       "     job_id   cpu_req   ram_req  space_req\n",
       "2   3418314 -0.150537  1.989888   0.198723\n",
       "3   3418314 -0.150537  1.989888   0.198723\n",
       "45  3418368  0.730898  2.359508   0.262981\n",
       "46  3418368  0.730898  2.359508   0.262981\n",
       "47  3418368  0.730898  2.359508   0.262981"
      ]
     },
     "execution_count": 111,
     "metadata": {},
     "output_type": "execute_result"
    }
   ],
   "source": [
    "df.head()"
   ]
  },
  {
   "cell_type": "code",
   "execution_count": 12,
   "metadata": {},
   "outputs": [],
   "source": [
    "# df['cpu_req'] = df['norm_cpu']\n",
    "# df['ram_req'] = df['norm_ram']\n",
    "# df['space_req'] = df['norm_space']\n",
    "\n",
    "# df.drop(['norm_cpu','norm_ram', 'norm_space'],axis=1,inplace=True)"
   ]
  },
  {
   "cell_type": "code",
   "execution_count": 112,
   "metadata": {},
   "outputs": [],
   "source": [
    "grouped = df.groupby('job_id').agg('sum')"
   ]
  },
  {
   "cell_type": "code",
   "execution_count": 113,
   "metadata": {},
   "outputs": [],
   "source": [
    "grouped['resource_req'] = (grouped['cpu_req'] + grouped['ram_req'] + grouped['space_req'])/3"
   ]
  },
  {
   "cell_type": "code",
   "execution_count": 114,
   "metadata": {},
   "outputs": [
    {
     "data": {
      "text/html": [
       "<div>\n",
       "<style scoped>\n",
       "    .dataframe tbody tr th:only-of-type {\n",
       "        vertical-align: middle;\n",
       "    }\n",
       "\n",
       "    .dataframe tbody tr th {\n",
       "        vertical-align: top;\n",
       "    }\n",
       "\n",
       "    .dataframe thead th {\n",
       "        text-align: right;\n",
       "    }\n",
       "</style>\n",
       "<table border=\"1\" class=\"dataframe\">\n",
       "  <thead>\n",
       "    <tr style=\"text-align: right;\">\n",
       "      <th></th>\n",
       "      <th>cpu_req</th>\n",
       "      <th>ram_req</th>\n",
       "      <th>space_req</th>\n",
       "      <th>resource_req</th>\n",
       "    </tr>\n",
       "    <tr>\n",
       "      <th>job_id</th>\n",
       "      <th></th>\n",
       "      <th></th>\n",
       "      <th></th>\n",
       "      <th></th>\n",
       "    </tr>\n",
       "  </thead>\n",
       "  <tbody>\n",
       "    <tr>\n",
       "      <th>3418309</th>\n",
       "      <td>1.461796</td>\n",
       "      <td>-0.133310</td>\n",
       "      <td>-0.738957</td>\n",
       "      <td>0.196510</td>\n",
       "    </tr>\n",
       "    <tr>\n",
       "      <th>3418314</th>\n",
       "      <td>-0.602150</td>\n",
       "      <td>5.423557</td>\n",
       "      <td>0.414292</td>\n",
       "      <td>1.745233</td>\n",
       "    </tr>\n",
       "    <tr>\n",
       "      <th>3418319</th>\n",
       "      <td>-0.301075</td>\n",
       "      <td>1.456022</td>\n",
       "      <td>0.016847</td>\n",
       "      <td>0.390598</td>\n",
       "    </tr>\n",
       "    <tr>\n",
       "      <th>3418324</th>\n",
       "      <td>-0.301075</td>\n",
       "      <td>3.930130</td>\n",
       "      <td>0.462943</td>\n",
       "      <td>1.363999</td>\n",
       "    </tr>\n",
       "    <tr>\n",
       "      <th>3418329</th>\n",
       "      <td>2.192694</td>\n",
       "      <td>-1.205794</td>\n",
       "      <td>-1.166159</td>\n",
       "      <td>-0.059753</td>\n",
       "    </tr>\n",
       "  </tbody>\n",
       "</table>\n",
       "</div>"
      ],
      "text/plain": [
       "          cpu_req   ram_req  space_req  resource_req\n",
       "job_id                                              \n",
       "3418309  1.461796 -0.133310  -0.738957      0.196510\n",
       "3418314 -0.602150  5.423557   0.414292      1.745233\n",
       "3418319 -0.301075  1.456022   0.016847      0.390598\n",
       "3418324 -0.301075  3.930130   0.462943      1.363999\n",
       "3418329  2.192694 -1.205794  -1.166159     -0.059753"
      ]
     },
     "execution_count": 114,
     "metadata": {},
     "output_type": "execute_result"
    }
   ],
   "source": [
    "grouped.head()"
   ]
  },
  {
   "cell_type": "code",
   "execution_count": 115,
   "metadata": {},
   "outputs": [],
   "source": [
    "grouped.drop(['cpu_req','ram_req','space_req'],axis=1,inplace=True)\n"
   ]
  },
  {
   "cell_type": "code",
   "execution_count": 116,
   "metadata": {},
   "outputs": [],
   "source": [
    "temp = grouped.copy()\n",
    "# grouped = temp.copy()"
   ]
  },
  {
   "cell_type": "code",
   "execution_count": 117,
   "metadata": {},
   "outputs": [],
   "source": [
    "q1 = grouped['resource_req'].quantile(0.25)\n",
    "q3 = grouped['resource_req'].quantile(0.75)\n",
    "iqr = q3-q1\n",
    "grouped = grouped[(grouped['resource_req'] > (q1-1.5*iqr) ) & (grouped['resource_req'] < (q3+1.5*iqr))]"
   ]
  },
  {
   "cell_type": "code",
   "execution_count": 118,
   "metadata": {},
   "outputs": [
    {
     "data": {
      "text/plain": [
       "count    12071.000000\n",
       "mean         0.830850\n",
       "std          2.420205\n",
       "min         -6.955470\n",
       "25%         -0.898673\n",
       "50%          0.409772\n",
       "75%          2.034096\n",
       "max          9.098997\n",
       "Name: resource_req, dtype: float64"
      ]
     },
     "execution_count": 118,
     "metadata": {},
     "output_type": "execute_result"
    }
   ],
   "source": [
    "grouped['resource_req'].describe()"
   ]
  },
  {
   "cell_type": "code",
   "execution_count": 119,
   "metadata": {},
   "outputs": [],
   "source": [
    "machine_attrs = pd.read_csv(data_dir+\"machine_events/part-00000-of-00001.csv.gz\",header=None)\n",
    "machine_attrs.columns = machine_events_header\n",
    "machine_attrs = machine_attrs[machine_attrs['event_type'] == 0]\n",
    "machine_attrs.drop(['platform_id','event_type','timestamp'],axis=1,inplace=True)\n",
    "machine_attrs.dropna(inplace=True)\n",
    "machine_attrs.drop_duplicates('machine_id',inplace=True)\n"
   ]
  },
  {
   "cell_type": "code",
   "execution_count": 120,
   "metadata": {},
   "outputs": [],
   "source": [
    "scaler = StandardScaler()\n",
    "\n",
    "machine_attrs['cpu_cap'] = pd.Series(scaler.fit_transform(machine_attrs['cpu_cap'].values.reshape(-1, 1)).squeeze())\n",
    "machine_attrs['mem_cap'] = pd.Series(scaler.fit_transform(machine_attrs['mem_cap'].values.reshape(-1, 1)).squeeze())\n",
    "machine_attrs.dropna(inplace=True)\n"
   ]
  },
  {
   "cell_type": "code",
   "execution_count": 121,
   "metadata": {},
   "outputs": [],
   "source": [
    "machine_attrs['res_cap'] = (machine_attrs['cpu_cap'] + machine_attrs['mem_cap'])/2\n",
    "machine_attrs.drop(['cpu_cap','mem_cap'],axis=1,inplace=True)"
   ]
  },
  {
   "cell_type": "code",
   "execution_count": 122,
   "metadata": {},
   "outputs": [],
   "source": [
    "q1 = machine_attrs['res_cap'].quantile(0.25)\n",
    "q3 = machine_attrs['res_cap'].quantile(0.75)\n",
    "iqr = q3-q1\n",
    "machine_attrs = machine_attrs[(machine_attrs['res_cap'] > (q1-1.5*iqr) ) & (machine_attrs['res_cap'] < (q3+1.5*iqr))]"
   ]
  },
  {
   "cell_type": "code",
   "execution_count": 123,
   "metadata": {},
   "outputs": [
    {
     "data": {
      "text/plain": [
       "-0.043695    6677\n",
       "-0.664956    3840\n",
       " 0.575827     993\n",
       "-0.975834      54\n",
       "-1.207379       5\n",
       "-1.131075       1\n",
       "Name: res_cap, dtype: int64"
      ]
     },
     "execution_count": 123,
     "metadata": {},
     "output_type": "execute_result"
    }
   ],
   "source": [
    "machine_attrs['res_cap'].value_counts()"
   ]
  },
  {
   "cell_type": "code",
   "execution_count": 124,
   "metadata": {},
   "outputs": [
    {
     "data": {
      "image/png": "[encoded data removed]",
      "text/plain": [
       "<matplotlib.figure.Figure at 0x29bb4021940>"
      ]
     },
     "metadata": {},
     "output_type": "display_data"
    }
   ],
   "source": [
    "machine_attrs['res_cap'].plot.hist(bins=8)\n",
    "plt.show()"
   ]
  },
  {
   "cell_type": "code",
   "execution_count": 126,
   "metadata": {},
   "outputs": [
    {
     "data": {
      "image/png": "[encoded data removed]",
      "text/plain": [
       "<matplotlib.figure.Figure at 0x29bb3fa45c0>"
      ]
     },
     "metadata": {},
     "output_type": "display_data"
    }
   ],
   "source": [
    "grouped['resource_req'].plot.hist(bins=8)\n",
    "\n",
    "plt.show()"
   ]
  },
  {
   "cell_type": "code",
   "execution_count": 127,
   "metadata": {},
   "outputs": [],
   "source": [
    "hist, bin_edges = np.histogram(machine_attrs['res_cap'],8)\n",
    "\n",
    "mac_hist = []\n",
    "for ind,count in enumerate(hist):\n",
    "\n",
    "    bin_val = (bin_edges[ind] + bin_edges[ind+1])/2 \n",
    "    mac_hist.extend([bin_val]*count)"
   ]
  },
  {
   "cell_type": "code",
   "execution_count": 128,
   "metadata": {},
   "outputs": [],
   "source": [
    "hist, bin_edges = np.histogram(grouped['resource_req'],8)\n",
    "\n",
    "job_hist = []\n",
    "for ind,count in enumerate(hist):\n",
    "\n",
    "    bin_val = (bin_edges[ind] + bin_edges[ind+1])/2 \n",
    "    job_hist.extend([bin_val]*(count))"
   ]
  },
  {
   "cell_type": "code",
   "execution_count": 129,
   "metadata": {},
   "outputs": [
    {
     "name": "stdout",
     "output_type": "stream",
     "text": [
      "12071 11570\n"
     ]
    },
    {
     "data": {
      "text/plain": [
       "Ks_2sampResult(statistic=0.6735980009375528, pvalue=0.0)"
      ]
     },
     "execution_count": 129,
     "metadata": {},
     "output_type": "execute_result"
    }
   ],
   "source": [
    "print(len(job_hist),len(mac_hist))\n",
    "ks_2samp(job_hist,mac_hist)"
   ]
  },
  {
   "cell_type": "markdown",
   "metadata": {},
   "source": [
    "We use the table found on http://www.real-statistics.com/statistics-tables/kolmogorov-smirnov-table/ to find the threshold to accept/reject the null hypothesis. <br><br>\n",
    "For n $\\approx$ 11500, the threshold is 0.012 <br><br>\n",
    "As we can clearly see that the K-S statistic 0.6736 $>=$ 0.012 and also the returned p-value is 0, we **reject** the hypothesis that the machines (based on resource capacity) and jobs (based on resource requirements) come from the same distribution "
   ]
  }
 ],
 "metadata": {
  "kernelspec": {
   "display_name": "Python 3",
   "language": "python",
   "name": "python3"
  },
  "language_info": {
   "codemirror_mode": {
    "name": "ipython",
    "version": 3
   },
   "file_extension": ".py",
   "mimetype": "text/x-python",
   "name": "python",
   "nbconvert_exporter": "python",
   "pygments_lexer": "ipython3",
   "version": "3.6.4"
  }
 },
 "nbformat": 4,
 "nbformat_minor": 2
}
