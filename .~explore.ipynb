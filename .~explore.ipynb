{
 "cells": [
  {
   "cell_type": "code",
   "execution_count": 1,
   "metadata": {},
   "outputs": [
    {
     "name": "stderr",
     "output_type": "stream",
     "text": [
      "/usr/local/lib/python2.7/dist-packages/h5py/__init__.py:36: FutureWarning: Conversion of the second argument of issubdtype from `float` to `np.floating` is deprecated. In future, it will be treated as `np.float64 == np.dtype(float).type`.\n",
      "  from ._conv import register_converters as _register_converters\n"
     ]
    }
   ],
   "source": [
    "import pandas as pd\n",
    "import numpy as np\n",
    "import os\n",
    "import cPickle as pkl\n",
    "import h5py"
   ]
  },
  {
   "cell_type": "code",
   "execution_count": 2,
   "metadata": {},
   "outputs": [],
   "source": [
    "data_dir = \"./data/clusterdata-2011-2/\"\n",
    "\n",
    "task_events_header = ['timestamp','missing_info', 'job_id','task_index','machine_id','event_type',\n",
    "                      'user_name','sched_class','priority','cpu_req','ram_req','space_req','diff_machine']\n",
    "\n",
    "machine_events_header = ['timestamp','machine_id','event_type','platform_id','cpu_cap','mem_cap']\n",
    "\n",
    "task_usage_header = ['start_time','end_time','job_id','task_index','machine_id', 'mean_cpu_usage',\n",
    "                     'canon_memory_usage', 'assign_memory_usage', 'unmapped_cache', 'total_cache', \n",
    "                     'max_mem', 'mean_io', 'mean_space', 'max_cpu', 'max_io', 'cpi', 'mai', 'sample',\n",
    "                     'agg_type', 'sample_cpu_usage']"
   ]
  },
  {
   "cell_type": "code",
   "execution_count": 4,
   "metadata": {},
   "outputs": [],
   "source": [
    "df = pd.read_csv(data_dir+\"task_events/part-00000-of-00500.csv.gz\",header=None)\n",
    "# df.columns = task_events_header"
   ]
  },
  {
   "cell_type": "code",
   "execution_count": 5,
   "metadata": {},
   "outputs": [
    {
     "data": {
      "text/plain": [
       "0    201491\n",
       "1    189994\n",
       "4     43237\n",
       "5     10505\n",
       "2      4338\n",
       "3       581\n",
       "Name: event_type, dtype: int64"
      ]
     },
     "execution_count": 5,
     "metadata": {},
     "output_type": "execute_result"
    }
   ],
   "source": [
    "# df[df['job_id'] == 3418309]\n",
    "df['event_type'].value_counts()\n"
   ]
  },
  {
   "cell_type": "markdown",
   "metadata": {},
   "source": [
    "# Machines that are removed from the cluster were loaded more than X times their mean resource usage."
   ]
  },
  {
   "cell_type": "code",
   "execution_count": null,
   "metadata": {},
   "outputs": [],
   "source": [
    "first_stamp = pd.read_csv(data_dir+\"task_usage/part-00000-of-00500.csv.gz\",header=None)\n",
    "mid_stamp = pd.read_csv(data_dir+\"task_usage/part-00050-of-00500.csv.gz\",header=None)\n",
    "last_stamp = pd.read_csv(data_dir+\"task_usage/part-00100-of-00500.csv.gz\",header=None)\n",
    "first_stamp.columns = task_usage_header\n",
    "mid_stamp.columns = task_usage_header\n",
    "last_stamp.columns = task_usage_header\n",
    "start_time = int(first_stamp.iloc[0]['start_time']/1000000)\n",
    "mid_time = int(mid_stamp.iloc[-1]['start_time']/1000000)\n",
    "end_time = int(last_stamp.iloc[-1]['start_time']/1000000)\n",
    "\n",
    "del first_stamp\n",
    "del mid_stamp\n",
    "del last_stamp"
   ]
  },
  {
   "cell_type": "code",
   "execution_count": null,
   "metadata": {},
   "outputs": [],
   "source": [
    "hf = h5py.File('./data/time_stamps.h5','w')\n",
    "hf.create_dataset('time',data=[start_time,mid_time,end_time])\n",
    "hf.close()"
   ]
  },
  {
   "cell_type": "markdown",
   "metadata": {},
   "source": [
    "### Get Machine IDs of all machines in the first 100 task usage files"
   ]
  },
  {
   "cell_type": "code",
   "execution_count": null,
   "metadata": {},
   "outputs": [],
   "source": [
    "all_machines = np.array([])\n",
    "for i in xrange(101):\n",
    "    print i\n",
    "    df = pd.read_csv(data_dir + \"task_usage/part-%05d-of-00500.csv.gz\" % i,header=None)\n",
    "    df.columns = task_usage_header\n",
    "    m = df.groupby('machine_id').size().reset_index(name='counts')\n",
    "    m_count = m[m['counts'] > 100]['machine_id']\n",
    "    all_machines = np.append(all_machines, m_count.values)\n",
    "\n",
    "all_machines = np.unique(all_machines)\n",
    "\n",
    "h5 = h5py.File('./data/machines_in_100','w')\n",
    "h5.create_dataset('ids', data=list(all_machines))\n",
    "h5.close()"
   ]
  },
  {
   "cell_type": "code",
   "execution_count": 12,
   "metadata": {},
   "outputs": [
    {
     "ename": "TypeError",
     "evalue": "int() argument must be a string or a number, not 'Dataset'",
     "output_type": "error",
     "traceback": [
      "\u001b[0;31m---------------------------------------------------------------------------\u001b[0m",
      "\u001b[0;31mTypeError\u001b[0m                                 Traceback (most recent call last)",
      "\u001b[0;32m<ipython-input-12-3712856f79dc>\u001b[0m in \u001b[0;36m<module>\u001b[0;34m()\u001b[0m\n\u001b[1;32m      4\u001b[0m \u001b[0;34m\u001b[0m\u001b[0m\n\u001b[1;32m      5\u001b[0m \u001b[0mhf\u001b[0m \u001b[0;34m=\u001b[0m \u001b[0mh5py\u001b[0m\u001b[0;34m.\u001b[0m\u001b[0mFile\u001b[0m\u001b[0;34m(\u001b[0m\u001b[0;34m'./data/time_stamps.h5'\u001b[0m\u001b[0;34m,\u001b[0m\u001b[0;34m'r'\u001b[0m\u001b[0;34m)\u001b[0m\u001b[0;34m\u001b[0m\u001b[0m\n\u001b[0;32m----> 6\u001b[0;31m \u001b[0mstart_time\u001b[0m \u001b[0;34m=\u001b[0m \u001b[0mint\u001b[0m\u001b[0;34m(\u001b[0m\u001b[0mhf\u001b[0m\u001b[0;34m[\u001b[0m\u001b[0;34m'start'\u001b[0m\u001b[0;34m]\u001b[0m\u001b[0;34m)\u001b[0m\u001b[0;34m\u001b[0m\u001b[0m\n\u001b[0m\u001b[1;32m      7\u001b[0m \u001b[0mend_time\u001b[0m \u001b[0;34m=\u001b[0m \u001b[0mint\u001b[0m\u001b[0;34m(\u001b[0m\u001b[0mhf\u001b[0m\u001b[0;34m[\u001b[0m\u001b[0;34m'mid'\u001b[0m\u001b[0;34m]\u001b[0m\u001b[0;34m)\u001b[0m\u001b[0;34m\u001b[0m\u001b[0m\n\u001b[1;32m      8\u001b[0m \u001b[0mhf\u001b[0m\u001b[0;34m.\u001b[0m\u001b[0mclose\u001b[0m\u001b[0;34m(\u001b[0m\u001b[0;34m)\u001b[0m\u001b[0;34m\u001b[0m\u001b[0m\n",
      "\u001b[0;31mTypeError\u001b[0m: int() argument must be a string or a number, not 'Dataset'"
     ]
    }
   ],
   "source": [
    "hf = h5py.File('./data/machines_in_100','r')\n",
    "all_machines = np.array(hf['ids'])\n",
    "hf.close()\n",
    "\n",
    "hf = h5py.File('./data/time_stamps.h5','r')\n",
    "ts = np.array(hf['time'])\n",
    "start_time = ts[0]\n",
    "hf.close()\n",
    "\n",
    "\n",
    "\n",
    "cols = range(start_time,end_time)\n",
    "machine_usage = pd.DataFrame(data=np.empty((len(all_machines),len(cols))), columns=cols,dtype=np.float16)\n",
    "machine_usage.index = np.array(all_machines)\n",
    "machine_usage.replace(0,np.nan,inplace=True)"
   ]
  },
  {
   "cell_type": "code",
   "execution_count": 11,
   "metadata": {},
   "outputs": [],
   "source": [
    "hf.close()"
   ]
  },
  {
   "cell_type": "code",
   "execution_count": 124,
   "metadata": {},
   "outputs": [
    {
     "name": "stdout",
     "output_type": "stream",
     "text": [
      "501720.0\n",
      "501720.0\n",
      "501720.0\n"
     ]
    }
   ],
   "source": [
    "for index,row in df.iterrows():\n",
    "    if index > 2:\n",
    "        break\n",
    "    print row['start_time']/1000000"
   ]
  }
 ],
 "metadata": {
  "kernelspec": {
   "display_name": "Python 2",
   "language": "python",
   "name": "python2"
  },
  "language_info": {
   "codemirror_mode": {
    "name": "ipython",
    "version": 2
   },
   "file_extension": ".py",
   "mimetype": "text/x-python",
   "name": "python",
   "nbconvert_exporter": "python",
   "pygments_lexer": "ipython2",
   "version": "2.7.12"
  }
 },
 "nbformat": 4,
 "nbformat_minor": 2
}
